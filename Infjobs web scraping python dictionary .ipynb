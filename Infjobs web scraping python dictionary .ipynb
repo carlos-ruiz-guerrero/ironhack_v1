{
 "cells": [
  {
   "cell_type": "code",
   "execution_count": 4,
   "id": "c9d0c140",
   "metadata": {},
   "outputs": [],
   "source": [
    "import requests\n",
    "from bs4 import BeautifulSoup\n",
    "\n",
    "url = \"https://www.infojobs.net/albacete/ingeniero-preventa-tecnico/of-i1e246d6e1e474a841a36e87394b98e?applicationOrigin=search-new&page=1&sortBy=RELEVANCE\"  # Replace with the URL you want to scrape\n",
    "response = requests.get(url)\n",
    "soup = BeautifulSoup(response.text, \"html.parser\")"
   ]
  },
  {
   "cell_type": "markdown",
   "id": "7389f488",
   "metadata": {},
   "source": [
    "Following TAs recommendations on the web scraping project, I initially click on a single job opening, which is a container itself with all the necessary information regarding that position. \n",
    "Then, I proceed by creating a dictionary where we gather information on the job requirements as well as the salary"
   ]
  },
  {
   "cell_type": "code",
   "execution_count": 14,
   "id": "4da6adc2",
   "metadata": {},
   "outputs": [
    {
     "name": "stdout",
     "output_type": "stream",
     "text": [
      "{'Estudios mínimos': 'Ingeniería Técnica', 'Experiencia mínima': 'Al menos 2 años', 'Conocimientos necesarios': ['Desarrollo de Software', 'Desarrollo de propuestas', 'Trabajo en equipo', 'Proactividad', 'Autonomía', 'Redacción ofertas', 'PHP']}\n"
     ]
    }
   ],
   "source": [
    "Requisitos = {\n",
    "  \"Estudios mínimos\": \"Ingeniería Técnica\",\n",
    "  \"Experiencia mínima\": \"Al menos 2 años\",\n",
    "   \"Conocimientos necesarios\": [\"Desarrollo de Software\", \"Desarrollo de propuestas\", \"Trabajo en equipo\", \n",
    "                               \"Proactividad\",\"Autonomía\",\"Redacción ofertas\",\"PHP\"]\n",
    "    \n",
    "}\n",
    "print(Requisitos)"
   ]
  },
  {
   "cell_type": "code",
   "execution_count": 17,
   "id": "927de5a2",
   "metadata": {},
   "outputs": [],
   "source": [
    "import pandas as pd\n",
    "import numpy as np"
   ]
  },
  {
   "cell_type": "code",
   "execution_count": 19,
   "id": "164f9606",
   "metadata": {},
   "outputs": [
    {
     "name": "stdout",
     "output_type": "stream",
     "text": [
      "                                                                            Value\n",
      "Tipo de industria de la oferta           Servicios y tecnología de la información\n",
      "Categoría                       Informática y telecomunicaciones - Gestión de ...\n",
      "Nivel                                                                  Empleado/a\n",
      "Salario                                                     Salario no disponible\n"
     ]
    }
   ],
   "source": [
    "# Create a DataFrame from the dictionary\n",
    "df = pd.DataFrame.from_dict(Descripción, orient='index', columns=['Value'])\n",
    "\n",
    "# Save the DataFrame to a file (e.g., CSV)\n",
    "df.to_csv('description.csv', index_label='Field')\n",
    "print(df)"
   ]
  },
  {
   "cell_type": "code",
   "execution_count": 15,
   "id": "d934617a",
   "metadata": {},
   "outputs": [
    {
     "name": "stdout",
     "output_type": "stream",
     "text": [
      "{'Tipo de industria de la oferta': 'Servicios y tecnología de la información', 'Categoría': 'Informática y telecomunicaciones - Gestión de proyectos', 'Nivel': 'Empleado/a', 'Salario': 'Salario no disponible'}\n"
     ]
    }
   ],
   "source": [
    "Descripción = {\n",
    "    \"Tipo de industria de la oferta\": \"Servicios y tecnología de la información\",\n",
    "    \"Categoría\": \"Informática y telecomunicaciones - Gestión de proyectos\",\n",
    "    \"Nivel\": \"Empleado/a\",\n",
    "    \"Salario\": \"Salario no disponible\"\n",
    "}\n",
    "\n",
    "print(Descripción)"
   ]
  },
  {
   "cell_type": "code",
   "execution_count": 20,
   "id": "e887898b",
   "metadata": {},
   "outputs": [
    {
     "name": "stdout",
     "output_type": "stream",
     "text": [
      "                                                                      Value\n",
      "Estudios mínimos                                         Ingeniería Técnica\n",
      "Experiencia mínima                                          Al menos 2 años\n",
      "Conocimientos necesarios  [Desarrollo de Software, Desarrollo de propues...\n"
     ]
    }
   ],
   "source": [
    "# Create a DataFrame from the dictionary\n",
    "df = pd.DataFrame.from_dict(Requisitos, orient='index', columns=['Value'])\n",
    "\n",
    "# Save the DataFrame to a file (e.g., CSV)\n",
    "df.to_csv('requisitos.csv', index_label='Field')\n",
    "print(df)"
   ]
  },
  {
   "cell_type": "code",
   "execution_count": 22,
   "id": "245d1b6d",
   "metadata": {},
   "outputs": [
    {
     "name": "stdout",
     "output_type": "stream",
     "text": [
      "                                                                            Value\n",
      "Estudios mínimos                                               Ingeniería Técnica\n",
      "Experiencia mínima                                                Al menos 2 años\n",
      "Conocimientos necesarios        [Desarrollo de Software, Desarrollo de propues...\n",
      "Tipo de industria de la oferta           Servicios y tecnología de la información\n",
      "Categoría                       Informática y telecomunicaciones - Gestión de ...\n",
      "Nivel                                                                  Empleado/a\n",
      "Salario                                                     Salario no disponible\n"
     ]
    }
   ],
   "source": [
    "# Combine dictionaries into a single dictionary\n",
    "combined_dict = {**Requisitos, **Descripción}\n",
    "\n",
    "# Create a DataFrame from the combined dictionary\n",
    "df = pd.DataFrame.from_dict(combined_dict, orient='index', columns=['Value'])\n",
    "\n",
    "# Save the DataFrame to a file (e.g., CSV)\n",
    "df.to_csv('combined_data.csv', index_label='Field')\n",
    "\n",
    "print(df)"
   ]
  },
  {
   "cell_type": "code",
   "execution_count": null,
   "id": "bfa19f79",
   "metadata": {},
   "outputs": [],
   "source": []
  }
 ],
 "metadata": {
  "kernelspec": {
   "display_name": "Python 3 (ipykernel)",
   "language": "python",
   "name": "python3"
  },
  "language_info": {
   "codemirror_mode": {
    "name": "ipython",
    "version": 3
   },
   "file_extension": ".py",
   "mimetype": "text/x-python",
   "name": "python",
   "nbconvert_exporter": "python",
   "pygments_lexer": "ipython3",
   "version": "3.9.13"
  }
 },
 "nbformat": 4,
 "nbformat_minor": 5
}
